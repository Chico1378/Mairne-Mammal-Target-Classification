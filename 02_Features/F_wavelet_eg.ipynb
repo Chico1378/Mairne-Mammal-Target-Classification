{
 "cells": [
  {
   "cell_type": "code",
   "execution_count": null,
   "metadata": {},
   "outputs": [
    {
     "ename": "OSError",
     "evalue": "[Errno 22] Invalid argument: '\\\\D:\\\\Dataset\\\\Mairne-Mammal-Target-Classification\\\\01_PreProcess\\\\X_train.npy'",
     "output_type": "error",
     "traceback": [
      "\u001b[31m---------------------------------------------------------------------------\u001b[39m",
      "\u001b[31mOSError\u001b[39m                                   Traceback (most recent call last)",
      "\u001b[36mCell\u001b[39m\u001b[36m \u001b[39m\u001b[32mIn[11]\u001b[39m\u001b[32m, line 4\u001b[39m\n\u001b[32m      2\u001b[39m \u001b[38;5;28;01mimport\u001b[39;00m\u001b[38;5;250m \u001b[39m\u001b[34;01mnumpy\u001b[39;00m\u001b[38;5;250m \u001b[39m\u001b[38;5;28;01mas\u001b[39;00m\u001b[38;5;250m \u001b[39m\u001b[34;01mnp\u001b[39;00m\n\u001b[32m      3\u001b[39m \u001b[38;5;66;03m# 读取训练集、测试集\u001b[39;00m\n\u001b[32m----> \u001b[39m\u001b[32m4\u001b[39m X_train = \u001b[43mnp\u001b[49m\u001b[43m.\u001b[49m\u001b[43mload\u001b[49m\u001b[43m(\u001b[49m\u001b[33;43mr\u001b[39;49m\u001b[33;43m\"\u001b[39;49m\u001b[33;43m\\\u001b[39;49m\u001b[33;43mD:\u001b[39;49m\u001b[33;43m\\\u001b[39;49m\u001b[33;43mDataset\u001b[39;49m\u001b[33;43m\\\u001b[39;49m\u001b[33;43mMairne-Mammal-Target-Classification\u001b[39;49m\u001b[33;43m\\\u001b[39;49m\u001b[33;43m01_PreProcess\u001b[39;49m\u001b[33;43m\\\u001b[39;49m\u001b[33;43mX_train.npy\u001b[39;49m\u001b[33;43m\"\u001b[39;49m\u001b[43m)\u001b[49m\n\u001b[32m      5\u001b[39m X_test = np.load(\u001b[33mr\u001b[39m\u001b[33m\"\u001b[39m\u001b[33mD:\u001b[39m\u001b[33m\\\u001b[39m\u001b[33mDataset\u001b[39m\u001b[33m\\\u001b[39m\u001b[33mMairne-Mammal-Target-Classification\u001b[39m\u001b[33m\\\u001b[39m\u001b[33m01_PreProcess\u001b[39m\u001b[33m\\\u001b[39m\u001b[33mX_test.npy\u001b[39m\u001b[33m\"\u001b[39m)\n\u001b[32m      6\u001b[39m Y_train = np.load(\u001b[33mr\u001b[39m\u001b[33m\"\u001b[39m\u001b[33mD:\u001b[39m\u001b[33m\\\u001b[39m\u001b[33mDataset\u001b[39m\u001b[33m\\\u001b[39m\u001b[33mMairne-Mammal-Target-Classification\u001b[39m\u001b[33m\\\u001b[39m\u001b[33m01_PreProcess\u001b[39m\u001b[33m\\\u001b[39m\u001b[33my_train.npy\u001b[39m\u001b[33m\"\u001b[39m)\n",
      "\u001b[36mFile \u001b[39m\u001b[32md:\\Venv\\envs\\TarRec\\Lib\\site-packages\\numpy\\lib\\_npyio_impl.py:459\u001b[39m, in \u001b[36mload\u001b[39m\u001b[34m(file, mmap_mode, allow_pickle, fix_imports, encoding, max_header_size)\u001b[39m\n\u001b[32m    457\u001b[39m     own_fid = \u001b[38;5;28;01mFalse\u001b[39;00m\n\u001b[32m    458\u001b[39m \u001b[38;5;28;01melse\u001b[39;00m:\n\u001b[32m--> \u001b[39m\u001b[32m459\u001b[39m     fid = stack.enter_context(\u001b[38;5;28;43mopen\u001b[39;49m\u001b[43m(\u001b[49m\u001b[43mos\u001b[49m\u001b[43m.\u001b[49m\u001b[43mfspath\u001b[49m\u001b[43m(\u001b[49m\u001b[43mfile\u001b[49m\u001b[43m)\u001b[49m\u001b[43m,\u001b[49m\u001b[43m \u001b[49m\u001b[33;43m\"\u001b[39;49m\u001b[33;43mrb\u001b[39;49m\u001b[33;43m\"\u001b[39;49m\u001b[43m)\u001b[49m)\n\u001b[32m    460\u001b[39m     own_fid = \u001b[38;5;28;01mTrue\u001b[39;00m\n\u001b[32m    462\u001b[39m \u001b[38;5;66;03m# Code to distinguish from NumPy binary files and pickles.\u001b[39;00m\n",
      "\u001b[31mOSError\u001b[39m: [Errno 22] Invalid argument: '\\\\D:\\\\Dataset\\\\Mairne-Mammal-Target-Classification\\\\01_PreProcess\\\\X_train.npy'"
     ]
    }
   ],
   "source": [
    "import os\n",
    "import numpy as np\n",
    "# 读取训练集、测试集\n",
    "X_train = np.load(r\"D:\\Dataset\\Mairne-Mammal-Target-Classification\\01_PreProcess\\X_train.npy\")\n",
    "X_test = np.load(r\"D:\\Dataset\\Mairne-Mammal-Target-Classification\\01_PreProcess\\X_test.npy\")\n",
    "Y_train = np.load(r\"D:\\Dataset\\Mairne-Mammal-Target-Classification\\01_PreProcess\\y_train.npy\")\n",
    "Y_test = np.load(r\"D:\\Dataset\\Mairne-Mammal-Target-Classification\\01_PreProcess\\y_test.npy\")\n",
    "ids_test = np.load(r\"D:\\Dataset\\Mairne-Mammal-Target-Classification\\01_PreProcess\\ids_test.npy\")\n",
    "ids_train = np.load(r\"D:\\Dataset\\Mairne-Mammal-Target-Classification\\01_PreProcess\\ids_train.npy\")"
   ]
  },
  {
   "cell_type": "code",
   "execution_count": null,
   "metadata": {},
   "outputs": [],
   "source": [
    "import numpy as np\n",
    "import pywt\n",
    "import scipy.io.wavfile as wav\n",
    "import matplotlib.pyplot as plt\n",
    "import os\n",
    "\n",
    "# 文件路径\n",
    "file_paths = [\n",
    "    r\"D:\\Dataset\\Mairne-Mammal-Target-Classification\\02_Features\\eg_WB5903700N.wav\",\n",
    "    r\"D:\\Dataset\\Mairne-Mammal-Target-Classification\\02_Features\\eg_WS6107200M.wav\",\n",
    "    r\"D:\\Dataset\\Mairne-Mammal-Target-Classification\\02_Features\\eg_AS6102500J.wav\"\n",
    "]\n",
    "\n",
    "# 选择小波基\n",
    "wavelet = 'morl'\n",
    "\n",
    "# 遍历所有文件并绘制小波变换图\n",
    "for file_path in file_paths:\n",
    "    # 读取WAV文件\n",
    "    sample_rate, data = wav.read(file_path)\n",
    "\n",
    "    # 如果是双声道音频，取一个通道\n",
    "    if len(data.shape) > 1:\n",
    "        data = data[:, 0]\n",
    "\n",
    "    # 归一化到 [-1, 1]\n",
    "    data = data.astype(np.float32)\n",
    "    data = data / np.max(np.abs(data))\n",
    "\n",
    "    # 生成尺度范围\n",
    "    scales = np.arange(1, 128)\n",
    "\n",
    "    # 计算小波变换\n",
    "    coefficients, frequencies = pywt.cwt(data, scales, wavelet, 1.0 / sample_rate)\n",
    "\n",
    "    # 绘图\n",
    "    plt.figure(figsize=(10, 6))\n",
    "    plt.imshow(np.abs(coefficients), aspect='auto', extent=[0, len(data)/sample_rate, scales[-1], scales[0]], cmap='jet')\n",
    "    plt.colorbar(label='Magnitude')\n",
    "    plt.ylabel(\"Scale\")\n",
    "    plt.xlabel(\"Time (s)\")\n",
    "    plt.title(f\"Wavelet Transform of {os.path.basename(file_path)} (Normalized)\")\n",
    "    plt.show()\n",
    "\n",
    "        # 播放音频\n",
    "    print(f\"Playing audio for Sample {os.path.basename(file_path)}\")\n",
    "    display(Audio(data, rate=sample_rate))  # 采样率可根据数据调整"
   ]
  },
  {
   "cell_type": "code",
   "execution_count": null,
   "metadata": {},
   "outputs": [],
   "source": [
    "import numpy as np\n",
    "import pywt\n",
    "import matplotlib.pyplot as plt\n",
    "import random\n",
    "from IPython.display import Audio\n",
    "\n",
    "# 选取3个随机样本\n",
    "random_indices = random.sample(range(X_train.shape[0]), 3)\n",
    "selected_signals = X_train[random_indices, :]\n",
    "selected_ids = ids_train[random_indices]\n",
    "\n",
    "# 选择小波基\n",
    "wavelet = 'morl'\n",
    "scales = np.arange(1, 128)  # 设定尺度范围\n",
    "\n",
    "# 遍历所选样本并绘制小波变换图\n",
    "for i, signal in enumerate(selected_signals):\n",
    "    # 归一化到 [-1, 1]\n",
    "    signal = signal.astype(np.float32)\n",
    "    signal = signal / np.max(np.abs(signal))\n",
    "\n",
    "    # 计算小波变换\n",
    "    coefficients, frequencies = pywt.cwt(signal, scales, wavelet)\n",
    "\n",
    "    # 绘图\n",
    "    plt.figure(figsize=(10, 6))\n",
    "    plt.imshow(np.abs(coefficients), aspect='auto', extent=[0, X_train.shape[1], scales[-1], scales[0]], cmap='jet')\n",
    "    plt.colorbar(label='Magnitude')\n",
    "    plt.ylabel(\"Scale\")\n",
    "    plt.xlabel(\"Time (samples)\")\n",
    "    plt.title(f\"Wavelet Transform of Sample {random_indices[i]}\")\n",
    "    plt.show()\n",
    "    # 播放音频\n",
    "    print(f\"Playing audio for Sample {selected_ids[i]}\")\n",
    "    display(Audio(signal, rate=60600))  # 采样率可根据数据调整"
   ]
  },
  {
   "cell_type": "code",
   "execution_count": 35,
   "metadata": {},
   "outputs": [
    {
     "name": "stdout",
     "output_type": "stream",
     "text": [
      "(471,)\n"
     ]
    }
   ],
   "source": [
    "print(ids_train.shape)"
   ]
  }
 ],
 "metadata": {
  "kernelspec": {
   "display_name": "TarRec",
   "language": "python",
   "name": "python3"
  },
  "language_info": {
   "codemirror_mode": {
    "name": "ipython",
    "version": 3
   },
   "file_extension": ".py",
   "mimetype": "text/x-python",
   "name": "python",
   "nbconvert_exporter": "python",
   "pygments_lexer": "ipython3",
   "version": "3.12.0"
  }
 },
 "nbformat": 4,
 "nbformat_minor": 2
}
