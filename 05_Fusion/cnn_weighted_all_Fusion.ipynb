{
 "cells": [
  {
   "cell_type": "code",
   "execution_count": 3,
   "metadata": {},
   "outputs": [
    {
     "name": "stderr",
     "output_type": "stream",
     "text": [
      "d:\\Venv\\envs\\TarRec\\Lib\\site-packages\\keras\\src\\models\\functional.py:238: UserWarning: The structure of `inputs` doesn't match the expected structure.\n",
      "Expected: ['input_layer_2']\n",
      "Received: inputs=Tensor(shape=(32, 128, 128, 1))\n",
      "  warnings.warn(msg)\n"
     ]
    },
    {
     "name": "stdout",
     "output_type": "stream",
     "text": [
      "\u001b[1m15/15\u001b[0m \u001b[32m━━━━━━━━━━━━━━━━━━━━\u001b[0m\u001b[37m\u001b[0m \u001b[1m1s\u001b[0m 38ms/step\n"
     ]
    },
    {
     "name": "stderr",
     "output_type": "stream",
     "text": [
      "d:\\Venv\\envs\\TarRec\\Lib\\site-packages\\keras\\src\\models\\functional.py:238: UserWarning: The structure of `inputs` doesn't match the expected structure.\n",
      "Expected: ['input_layer_2']\n",
      "Received: inputs=Tensor(shape=(None, 128, 128, 1))\n",
      "  warnings.warn(msg)\n"
     ]
    },
    {
     "name": "stdout",
     "output_type": "stream",
     "text": [
      "\u001b[1m15/15\u001b[0m \u001b[32m━━━━━━━━━━━━━━━━━━━━\u001b[0m\u001b[37m\u001b[0m \u001b[1m1s\u001b[0m 40ms/step\n",
      "\u001b[1m 3/15\u001b[0m \u001b[32m━━━━\u001b[0m\u001b[37m━━━━━━━━━━━━━━━━\u001b[0m \u001b[1m0s\u001b[0m 28ms/step"
     ]
    },
    {
     "name": "stderr",
     "output_type": "stream",
     "text": [
      "d:\\Venv\\envs\\TarRec\\Lib\\site-packages\\keras\\src\\models\\functional.py:238: UserWarning: The structure of `inputs` doesn't match the expected structure.\n",
      "Expected: ['input_layer_6']\n",
      "Received: inputs=Tensor(shape=(32, 128, 128, 1))\n",
      "  warnings.warn(msg)\n"
     ]
    },
    {
     "name": "stdout",
     "output_type": "stream",
     "text": [
      "\u001b[1m15/15\u001b[0m \u001b[32m━━━━━━━━━━━━━━━━━━━━\u001b[0m\u001b[37m\u001b[0m \u001b[1m1s\u001b[0m 33ms/step\n",
      "\u001b[1m1/4\u001b[0m \u001b[32m━━━━━\u001b[0m\u001b[37m━━━━━━━━━━━━━━━\u001b[0m \u001b[1m0s\u001b[0m 37ms/step"
     ]
    },
    {
     "name": "stderr",
     "output_type": "stream",
     "text": [
      "d:\\Venv\\envs\\TarRec\\Lib\\site-packages\\keras\\src\\models\\functional.py:238: UserWarning: The structure of `inputs` doesn't match the expected structure.\n",
      "Expected: ['input_layer_6']\n",
      "Received: inputs=Tensor(shape=(None, 128, 128, 1))\n",
      "  warnings.warn(msg)\n"
     ]
    },
    {
     "name": "stdout",
     "output_type": "stream",
     "text": [
      "\u001b[1m4/4\u001b[0m \u001b[32m━━━━━━━━━━━━━━━━━━━━\u001b[0m\u001b[37m\u001b[0m \u001b[1m0s\u001b[0m 33ms/step\n",
      "\u001b[1m4/4\u001b[0m \u001b[32m━━━━━━━━━━━━━━━━━━━━\u001b[0m\u001b[37m\u001b[0m \u001b[1m0s\u001b[0m 30ms/step\n",
      "\u001b[1m4/4\u001b[0m \u001b[32m━━━━━━━━━━━━━━━━━━━━\u001b[0m\u001b[37m\u001b[0m \u001b[1m0s\u001b[0m 30ms/step\n",
      "Epoch 1/30\n",
      "\u001b[1m12/12\u001b[0m \u001b[32m━━━━━━━━━━━━━━━━━━━━\u001b[0m\u001b[37m\u001b[0m \u001b[1m1s\u001b[0m 18ms/step - accuracy: 0.6541 - loss: 0.8123 - val_accuracy: 1.0000 - val_loss: 0.1345 - learning_rate: 0.0010\n",
      "Epoch 2/30\n",
      "\u001b[1m12/12\u001b[0m \u001b[32m━━━━━━━━━━━━━━━━━━━━\u001b[0m\u001b[37m\u001b[0m \u001b[1m0s\u001b[0m 6ms/step - accuracy: 0.9982 - loss: 0.1300 - val_accuracy: 1.0000 - val_loss: 0.0365 - learning_rate: 0.0010\n",
      "Epoch 3/30\n",
      "\u001b[1m12/12\u001b[0m \u001b[32m━━━━━━━━━━━━━━━━━━━━\u001b[0m\u001b[37m\u001b[0m \u001b[1m0s\u001b[0m 6ms/step - accuracy: 1.0000 - loss: 0.0410 - val_accuracy: 1.0000 - val_loss: 0.0175 - learning_rate: 0.0010\n",
      "Epoch 4/30\n",
      "\u001b[1m12/12\u001b[0m \u001b[32m━━━━━━━━━━━━━━━━━━━━\u001b[0m\u001b[37m\u001b[0m \u001b[1m0s\u001b[0m 6ms/step - accuracy: 1.0000 - loss: 0.0233 - val_accuracy: 1.0000 - val_loss: 0.0109 - learning_rate: 0.0010\n",
      "Epoch 5/30\n",
      "\u001b[1m12/12\u001b[0m \u001b[32m━━━━━━━━━━━━━━━━━━━━\u001b[0m\u001b[37m\u001b[0m \u001b[1m0s\u001b[0m 6ms/step - accuracy: 0.9978 - loss: 0.0196 - val_accuracy: 1.0000 - val_loss: 0.0077 - learning_rate: 0.0010\n",
      "Epoch 6/30\n",
      "\u001b[1m12/12\u001b[0m \u001b[32m━━━━━━━━━━━━━━━━━━━━\u001b[0m\u001b[37m\u001b[0m \u001b[1m0s\u001b[0m 6ms/step - accuracy: 1.0000 - loss: 0.0116 - val_accuracy: 1.0000 - val_loss: 0.0060 - learning_rate: 0.0010\n",
      "Epoch 7/30\n",
      "\u001b[1m12/12\u001b[0m \u001b[32m━━━━━━━━━━━━━━━━━━━━\u001b[0m\u001b[37m\u001b[0m \u001b[1m0s\u001b[0m 6ms/step - accuracy: 1.0000 - loss: 0.0091 - val_accuracy: 1.0000 - val_loss: 0.0049 - learning_rate: 0.0010\n",
      "Epoch 8/30\n",
      "\u001b[1m12/12\u001b[0m \u001b[32m━━━━━━━━━━━━━━━━━━━━\u001b[0m\u001b[37m\u001b[0m \u001b[1m0s\u001b[0m 6ms/step - accuracy: 1.0000 - loss: 0.0116 - val_accuracy: 1.0000 - val_loss: 0.0039 - learning_rate: 0.0010\n",
      "Epoch 9/30\n",
      "\u001b[1m12/12\u001b[0m \u001b[32m━━━━━━━━━━━━━━━━━━━━\u001b[0m\u001b[37m\u001b[0m \u001b[1m0s\u001b[0m 6ms/step - accuracy: 1.0000 - loss: 0.0086 - val_accuracy: 1.0000 - val_loss: 0.0033 - learning_rate: 0.0010\n",
      "Epoch 10/30\n",
      "\u001b[1m12/12\u001b[0m \u001b[32m━━━━━━━━━━━━━━━━━━━━\u001b[0m\u001b[37m\u001b[0m \u001b[1m0s\u001b[0m 7ms/step - accuracy: 1.0000 - loss: 0.0055 - val_accuracy: 1.0000 - val_loss: 0.0028 - learning_rate: 0.0010\n",
      "Epoch 11/30\n",
      "\u001b[1m12/12\u001b[0m \u001b[32m━━━━━━━━━━━━━━━━━━━━\u001b[0m\u001b[37m\u001b[0m \u001b[1m0s\u001b[0m 5ms/step - accuracy: 1.0000 - loss: 0.0057 - val_accuracy: 1.0000 - val_loss: 0.0024 - learning_rate: 0.0010\n",
      "Epoch 12/30\n",
      "\u001b[1m12/12\u001b[0m \u001b[32m━━━━━━━━━━━━━━━━━━━━\u001b[0m\u001b[37m\u001b[0m \u001b[1m0s\u001b[0m 6ms/step - accuracy: 1.0000 - loss: 0.0054 - val_accuracy: 1.0000 - val_loss: 0.0021 - learning_rate: 0.0010\n",
      "Epoch 13/30\n",
      "\u001b[1m12/12\u001b[0m \u001b[32m━━━━━━━━━━━━━━━━━━━━\u001b[0m\u001b[37m\u001b[0m \u001b[1m0s\u001b[0m 6ms/step - accuracy: 1.0000 - loss: 0.0034 - val_accuracy: 1.0000 - val_loss: 0.0019 - learning_rate: 0.0010\n",
      "Epoch 14/30\n",
      "\u001b[1m12/12\u001b[0m \u001b[32m━━━━━━━━━━━━━━━━━━━━\u001b[0m\u001b[37m\u001b[0m \u001b[1m0s\u001b[0m 6ms/step - accuracy: 1.0000 - loss: 0.0036 - val_accuracy: 1.0000 - val_loss: 0.0016 - learning_rate: 0.0010\n",
      "Epoch 15/30\n",
      "\u001b[1m12/12\u001b[0m \u001b[32m━━━━━━━━━━━━━━━━━━━━\u001b[0m\u001b[37m\u001b[0m \u001b[1m0s\u001b[0m 6ms/step - accuracy: 1.0000 - loss: 0.0042 - val_accuracy: 1.0000 - val_loss: 0.0015 - learning_rate: 0.0010\n",
      "Epoch 16/30\n",
      "\u001b[1m12/12\u001b[0m \u001b[32m━━━━━━━━━━━━━━━━━━━━\u001b[0m\u001b[37m\u001b[0m \u001b[1m0s\u001b[0m 6ms/step - accuracy: 1.0000 - loss: 0.0031 - val_accuracy: 1.0000 - val_loss: 0.0013 - learning_rate: 0.0010\n",
      "Epoch 17/30\n",
      "\u001b[1m12/12\u001b[0m \u001b[32m━━━━━━━━━━━━━━━━━━━━\u001b[0m\u001b[37m\u001b[0m \u001b[1m0s\u001b[0m 6ms/step - accuracy: 1.0000 - loss: 0.0021 - val_accuracy: 1.0000 - val_loss: 0.0011 - learning_rate: 0.0010\n",
      "Epoch 18/30\n",
      "\u001b[1m12/12\u001b[0m \u001b[32m━━━━━━━━━━━━━━━━━━━━\u001b[0m\u001b[37m\u001b[0m \u001b[1m0s\u001b[0m 7ms/step - accuracy: 1.0000 - loss: 0.0028 - val_accuracy: 1.0000 - val_loss: 0.0010 - learning_rate: 0.0010\n",
      "Epoch 19/30\n",
      "\u001b[1m12/12\u001b[0m \u001b[32m━━━━━━━━━━━━━━━━━━━━\u001b[0m\u001b[37m\u001b[0m \u001b[1m0s\u001b[0m 6ms/step - accuracy: 1.0000 - loss: 0.0020 - val_accuracy: 1.0000 - val_loss: 9.4603e-04 - learning_rate: 0.0010\n",
      "Epoch 20/30\n",
      "\u001b[1m12/12\u001b[0m \u001b[32m━━━━━━━━━━━━━━━━━━━━\u001b[0m\u001b[37m\u001b[0m \u001b[1m0s\u001b[0m 6ms/step - accuracy: 1.0000 - loss: 0.0020 - val_accuracy: 1.0000 - val_loss: 8.7558e-04 - learning_rate: 0.0010\n",
      "Epoch 21/30\n",
      "\u001b[1m12/12\u001b[0m \u001b[32m━━━━━━━━━━━━━━━━━━━━\u001b[0m\u001b[37m\u001b[0m \u001b[1m0s\u001b[0m 8ms/step - accuracy: 1.0000 - loss: 0.0021 - val_accuracy: 1.0000 - val_loss: 8.2251e-04 - learning_rate: 0.0010\n",
      "Epoch 22/30\n",
      "\u001b[1m12/12\u001b[0m \u001b[32m━━━━━━━━━━━━━━━━━━━━\u001b[0m\u001b[37m\u001b[0m \u001b[1m0s\u001b[0m 6ms/step - accuracy: 1.0000 - loss: 0.0025 - val_accuracy: 1.0000 - val_loss: 7.2727e-04 - learning_rate: 0.0010\n",
      "Epoch 23/30\n",
      "\u001b[1m12/12\u001b[0m \u001b[32m━━━━━━━━━━━━━━━━━━━━\u001b[0m\u001b[37m\u001b[0m \u001b[1m0s\u001b[0m 6ms/step - accuracy: 1.0000 - loss: 0.0021 - val_accuracy: 1.0000 - val_loss: 6.5822e-04 - learning_rate: 0.0010\n",
      "Epoch 24/30\n",
      "\u001b[1m12/12\u001b[0m \u001b[32m━━━━━━━━━━━━━━━━━━━━\u001b[0m\u001b[37m\u001b[0m \u001b[1m0s\u001b[0m 7ms/step - accuracy: 1.0000 - loss: 0.0013 - val_accuracy: 1.0000 - val_loss: 6.0587e-04 - learning_rate: 0.0010\n",
      "Epoch 25/30\n",
      "\u001b[1m12/12\u001b[0m \u001b[32m━━━━━━━━━━━━━━━━━━━━\u001b[0m\u001b[37m\u001b[0m \u001b[1m0s\u001b[0m 6ms/step - accuracy: 1.0000 - loss: 0.0013 - val_accuracy: 1.0000 - val_loss: 5.5626e-04 - learning_rate: 0.0010\n",
      "Epoch 26/30\n",
      "\u001b[1m12/12\u001b[0m \u001b[32m━━━━━━━━━━━━━━━━━━━━\u001b[0m\u001b[37m\u001b[0m \u001b[1m0s\u001b[0m 6ms/step - accuracy: 1.0000 - loss: 0.0011 - val_accuracy: 1.0000 - val_loss: 5.1711e-04 - learning_rate: 0.0010\n",
      "Epoch 27/30\n",
      "\u001b[1m12/12\u001b[0m \u001b[32m━━━━━━━━━━━━━━━━━━━━\u001b[0m\u001b[37m\u001b[0m \u001b[1m0s\u001b[0m 6ms/step - accuracy: 1.0000 - loss: 0.0020 - val_accuracy: 1.0000 - val_loss: 4.8099e-04 - learning_rate: 0.0010\n",
      "Epoch 28/30\n",
      "\u001b[1m12/12\u001b[0m \u001b[32m━━━━━━━━━━━━━━━━━━━━\u001b[0m\u001b[37m\u001b[0m \u001b[1m0s\u001b[0m 6ms/step - accuracy: 1.0000 - loss: 0.0011 - val_accuracy: 1.0000 - val_loss: 4.4524e-04 - learning_rate: 0.0010\n",
      "Epoch 29/30\n",
      "\u001b[1m12/12\u001b[0m \u001b[32m━━━━━━━━━━━━━━━━━━━━\u001b[0m\u001b[37m\u001b[0m \u001b[1m0s\u001b[0m 6ms/step - accuracy: 1.0000 - loss: 0.0011 - val_accuracy: 1.0000 - val_loss: 4.1757e-04 - learning_rate: 0.0010\n",
      "Epoch 30/30\n",
      "\u001b[1m12/12\u001b[0m \u001b[32m━━━━━━━━━━━━━━━━━━━━\u001b[0m\u001b[37m\u001b[0m \u001b[1m0s\u001b[0m 6ms/step - accuracy: 1.0000 - loss: 8.1809e-04 - val_accuracy: 1.0000 - val_loss: 3.9071e-04 - learning_rate: 0.0010\n",
      "4/4 - 0s - 8ms/step - accuracy: 0.9744 - loss: 0.0910\n",
      "\n",
      "✅ 融合模型测试集准确率: 0.9744\n",
      "\u001b[1m4/4\u001b[0m \u001b[32m━━━━━━━━━━━━━━━━━━━━\u001b[0m\u001b[37m\u001b[0m \u001b[1m0s\u001b[0m 10ms/step\n",
      "\n",
      "📊 分类报告:\n",
      "              precision    recall  f1-score   support\n",
      "\n",
      "           0       1.00      0.95      0.97        39\n",
      "           1       0.97      1.00      0.99        39\n",
      "           2       0.95      0.97      0.96        39\n",
      "\n",
      "    accuracy                           0.97       117\n",
      "   macro avg       0.97      0.97      0.97       117\n",
      "weighted avg       0.97      0.97      0.97       117\n",
      "\n"
     ]
    },
    {
     "data": {
      "image/png": "[encoded data removed]",
      "text/plain": [
       "<Figure size 800x600 with 2 Axes>"
      ]
     },
     "metadata": {},
     "output_type": "display_data"
    },
    {
     "name": "stdout",
     "output_type": "stream",
     "text": [
      "✅ 融合模型已保存为 cnn_weighted_fusion_all_model.keras\n"
     ]
    }
   ],
   "source": [
    "import numpy as np\n",
    "import tensorflow as tf\n",
    "from tensorflow.keras.models import Model, load_model\n",
    "from tensorflow.keras.layers import Input, Dense, Dropout\n",
    "from tensorflow.keras.utils import to_categorical\n",
    "from tensorflow.keras.optimizers import Adam\n",
    "from tensorflow.keras.callbacks import EarlyStopping, ReduceLROnPlateau\n",
    "from sklearn.metrics import accuracy_score, classification_report, confusion_matrix\n",
    "import seaborn as sns\n",
    "import matplotlib.pyplot as plt\n",
    "\n",
    "# 1️⃣ 加载训练好的 CNN 模型\n",
    "model_mfcc = load_model(r\"D:\\Dataset\\Marine-Mammal-Target-Classification\\03_CNN\\cnn_MFCC_model.keras\")\n",
    "model_wavelet = load_model(r\"D:\\Dataset\\Marine-Mammal-Target-Classification\\03_CNN\\cnn_wavelet_model_abs.keras\")\n",
    "model_dd = load_model(r\"D:\\Dataset\\Marine-Mammal-Target-Classification\\03_CNN\\cnn_DelayDoppler_model.keras\")\n",
    "\n",
    "# 2️⃣ 提取特征层\n",
    "feature_extractor_mfcc = Model(inputs=model_mfcc.inputs, outputs=model_mfcc.get_layer(\"dense_4\").output)\n",
    "feature_extractor_wavelet = Model(inputs=model_wavelet.inputs, outputs=model_wavelet.get_layer(\"dense_4\").output)\n",
    "feature_extractor_dd = Model(inputs=model_dd.inputs, outputs=model_dd.get_layer(\"dense_12\").output)\n",
    "\n",
    "# 3️⃣ 加载训练数据和测试数据\n",
    "X_train_mfcc = np.load(r\"D:\\Dataset\\Temp_Results\\MFCC\\X_train_mfcc_cnn.npy\")\n",
    "X_train_wavelet = np.load(r\"D:\\Dataset\\Temp_Results\\Wavelet\\X_train_cwt_abs.npy\")\n",
    "X_train_wavelet = np.expand_dims(X_train_wavelet, axis=-1)\n",
    "X_train_dd = np.load(r\"D:\\Dataset\\Temp_Results\\DelayDoppler\\X_train_dd_cnn.npy\")\n",
    "Y_train = np.load(r\"D:\\Dataset\\Temp_Results\\Train_Test\\y_train.npy\")\n",
    "\n",
    "X_test_mfcc = np.load(r\"D:\\Dataset\\Temp_Results\\MFCC\\X_test_mfcc_cnn.npy\")\n",
    "X_test_wavelet = np.load(r\"D:\\Dataset\\Temp_Results\\Wavelet\\X_test_cwt_abs.npy\")\n",
    "X_test_wavelet = np.expand_dims(X_test_wavelet, axis=-1)\n",
    "X_test_dd = np.load(r\"D:\\Dataset\\Temp_Results\\DelayDoppler\\X_test_dd_cnn.npy\")\n",
    "Y_test = np.load(r\"D:\\Dataset\\Temp_Results\\Train_Test\\y_test.npy\")\n",
    "\n",
    "# 归一化数据\n",
    "X_train_mfcc = X_train_mfcc.astype(np.float32) / 255.0\n",
    "X_train_wavelet = X_train_wavelet.astype(np.float32) / 255.0\n",
    "X_train_dd = X_train_dd.astype(np.float32) / 255.0\n",
    "\n",
    "X_test_mfcc = X_test_mfcc.astype(np.float32) / 255.0\n",
    "X_test_wavelet = X_test_wavelet.astype(np.float32) / 255.0\n",
    "X_test_dd = X_test_dd.astype(np.float32) / 255.0\n",
    "\n",
    "# 4️⃣ 提取三个模型的特征\n",
    "features_train_mfcc = feature_extractor_mfcc.predict(X_train_mfcc)\n",
    "features_train_wavelet = feature_extractor_wavelet.predict(X_train_wavelet)\n",
    "features_train_dd = feature_extractor_dd.predict(X_train_dd)\n",
    "\n",
    "features_test_mfcc = feature_extractor_mfcc.predict(X_test_mfcc)\n",
    "features_test_wavelet = feature_extractor_wavelet.predict(X_test_wavelet)\n",
    "features_test_dd = feature_extractor_dd.predict(X_test_dd)\n",
    "\n",
    "# 5️⃣ 加权融合特征（给不同特征赋予权重）\n",
    "alpha, beta, gamma = 0.3, 0.2, 0.5  # 设定权重系数\n",
    "fused_train_features = alpha * features_train_mfcc + beta * features_train_wavelet + gamma * features_train_dd\n",
    "fused_test_features = alpha * features_test_mfcc + beta * features_test_wavelet + gamma * features_test_dd\n",
    "\n",
    "# 6️⃣ 处理标签\n",
    "num_classes = len(np.unique(Y_train))\n",
    "Y_train = to_categorical(Y_train, num_classes)\n",
    "Y_test = to_categorical(Y_test, num_classes)\n",
    "\n",
    "# 7️⃣ 构建融合模型\n",
    "input_dim = fused_train_features.shape[1]\n",
    "input_layer = Input(shape=(input_dim,))\n",
    "\n",
    "x = Dense(128, activation='relu')(input_layer)\n",
    "x = Dropout(0.4)(x)\n",
    "x = Dense(num_classes, activation='softmax')(x)\n",
    "\n",
    "fusion_model = Model(inputs=input_layer, outputs=x)\n",
    "\n",
    "# 8️⃣ 编译模型\n",
    "fusion_model.compile(optimizer=Adam(learning_rate=0.001),\n",
    "                     loss='categorical_crossentropy',\n",
    "                     metrics=['accuracy'])\n",
    "\n",
    "# 9️⃣ 训练模型（**使用训练数据，而非测试数据**）\n",
    "early_stopping = EarlyStopping(monitor='val_loss', patience=10, restore_best_weights=True)\n",
    "reduce_lr = ReduceLROnPlateau(monitor='val_loss', factor=0.5, patience=5, min_lr=1e-6)\n",
    "\n",
    "history = fusion_model.fit(fused_train_features, Y_train, epochs=30, batch_size=32,\n",
    "                           validation_split=0.2, callbacks=[reduce_lr, early_stopping])\n",
    "\n",
    "# 🔟 评估融合模型（**使用测试数据**）\n",
    "test_loss, test_acc = fusion_model.evaluate(fused_test_features, Y_test, verbose=2)\n",
    "print(f\"\\n✅ 融合模型测试集准确率: {test_acc:.4f}\")\n",
    "\n",
    "# 计算分类报告和混淆矩阵\n",
    "Y_pred = fusion_model.predict(fused_test_features)\n",
    "Y_pred_classes = np.argmax(Y_pred, axis=1)\n",
    "Y_true = np.argmax(Y_test, axis=1)\n",
    "\n",
    "print(\"\\n📊 分类报告:\")\n",
    "print(classification_report(Y_true, Y_pred_classes))\n",
    "\n",
    "conf_matrix = confusion_matrix(Y_true, Y_pred_classes)\n",
    "plt.figure(figsize=(8, 6))\n",
    "sns.heatmap(conf_matrix, annot=True, fmt=\"d\", cmap=\"Blues\", xticklabels=np.unique(Y_true), yticklabels=np.unique(Y_true))\n",
    "plt.xlabel(\"Predicted Label\")\n",
    "plt.ylabel(\"True Label\")\n",
    "plt.title(\"Confusion Matrix\")\n",
    "plt.show()\n",
    "\n",
    "# 保存最终融合模型\n",
    "fusion_model.save(\"cnn_weighted_fusion_all_model.keras\")\n",
    "print(\"✅ 融合模型已保存为 cnn_weighted_fusion_all_model.keras\")\n"
   ]
  }
 ],
 "metadata": {
  "kernelspec": {
   "display_name": "TarRec",
   "language": "python",
   "name": "python3"
  },
  "language_info": {
   "codemirror_mode": {
    "name": "ipython",
    "version": 3
   },
   "file_extension": ".py",
   "mimetype": "text/x-python",
   "name": "python",
   "nbconvert_exporter": "python",
   "pygments_lexer": "ipython3",
   "version": "3.12.0"
  }
 },
 "nbformat": 4,
 "nbformat_minor": 2
}
