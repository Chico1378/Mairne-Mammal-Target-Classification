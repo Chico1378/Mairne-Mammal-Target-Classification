{
 "cells": [
  {
   "cell_type": "code",
   "execution_count": 1,
   "metadata": {},
   "outputs": [],
   "source": [
    "import os\n",
    "import numpy as np\n",
    "# 读取训练集、测试集\n",
    "X_train = np.load(r\"D:\\Dataset\\Mairne-Mammal-Target-Classification\\01_PreProcess\\X_train.npy\")\n",
    "X_test = np.load(r\"D:\\Dataset\\Mairne-Mammal-Target-Classification\\01_PreProcess\\X_test.npy\")\n",
    "Y_train = np.load(r\"D:\\Dataset\\Mairne-Mammal-Target-Classification\\01_PreProcess\\Y_train.npy\")\n",
    "Y_test = np.load(r\"D:\\Dataset\\Mairne-Mammal-Target-Classification\\01_PreProcess\\Y_test.npy\")\n",
    "ids_test = np.load(r\"D:\\Dataset\\Mairne-Mammal-Target-Classification\\01_PreProcess\\ids_test.npy\")\n",
    "ids_train = np.load(r\"D:\\Dataset\\Mairne-Mammal-Target-Classification\\01_PreProcess\\ids_train.npy\")"
   ]
  },
  {
   "cell_type": "code",
   "execution_count": null,
   "metadata": {},
   "outputs": [],
   "source": [
    "import os\n",
    "import numpy as np\n",
    "import pywt  # 小波变换库\n",
    "import matplotlib.pyplot as plt\n",
    "from tqdm import tqdm  # 进度条库\n",
    "\n",
    "\n",
    "# 选择小波基\n",
    "wavelet = 'morl'\n",
    "scales = np.arange(1, 128)  # 设定尺度范围\n",
    "\n",
    "# 初始化存储矩阵 (假设所有信号长度相同)\n",
    "num_samples = X_train.shape[0]\n",
    "signal_length = X_train.shape[1]  # 假设每个信号长度相同\n",
    "cwt_features = np.zeros((num_samples, len(scales), signal_length))  # (样本数, 频率尺度数, 时间步)\n",
    "\n",
    "# 遍历所有样本并计算小波变换 (使用 tqdm 进度条)\n",
    "for i, signal in enumerate(tqdm(X_train, desc=\"Processing CWT\", unit=\"sample\")):\n",
    "    # 归一化到 [-1, 1]\n",
    "    signal = signal.astype(np.float32)\n",
    "    signal = signal / np.max(np.abs(signal))\n",
    "\n",
    "    # 计算小波变换 (生成二维时频图)\n",
    "    coefficients, _ = pywt.cwt(signal, scales, wavelet)\n",
    "\n",
    "    # 存入特征矩阵\n",
    "    cwt_features[i] = np.abs(coefficients)\n",
    "\n",
    "# 保存转换后的二维特征\n",
    "output_path = r\"X_train_cwt.npy\"\n",
    "np.save(output_path, cwt_features)\n",
    "\n",
    "print(f\"小波变换完成！二维特征已保存至 {output_path}\")\n"
   ]
  }
 ],
 "metadata": {
  "kernelspec": {
   "display_name": "TarRec",
   "language": "python",
   "name": "python3"
  },
  "language_info": {
   "codemirror_mode": {
    "name": "ipython",
    "version": 3
   },
   "file_extension": ".py",
   "mimetype": "text/x-python",
   "name": "python",
   "nbconvert_exporter": "python",
   "pygments_lexer": "ipython3",
   "version": "3.12.0"
  }
 },
 "nbformat": 4,
 "nbformat_minor": 2
}
